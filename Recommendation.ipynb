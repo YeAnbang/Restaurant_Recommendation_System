{
 "cells": [
  {
   "cell_type": "code",
   "execution_count": 197,
   "id": "c04df0ba",
   "metadata": {},
   "outputs": [],
   "source": [
    "import numpy as np\n",
    "import pandas as pd\n",
    "import os\n",
    "import matplotlib.pyplot as plt\n",
    "import seaborn as sns\n",
    "#import geopandas as gpd\n",
    "import re\n",
    "import sklearn\n",
    "import numpy as np\n",
    "from sklearn.neighbors import NearestNeighbors\n",
    "%matplotlib inline\n",
    "plt.rcParams['figure.figsize'] = (12, 5);\n",
    "sns.set_style('whitegrid')"
   ]
  },
  {
   "cell_type": "markdown",
   "id": "0ebb4342",
   "metadata": {},
   "source": [
    "# User Base Recommendation\n",
    "\n",
    "## Assign weights to each feature\n",
    "\n",
    "### city_id is supper critical, so we assign large weight. (customer_array[:,5]*=100.) Note that latitude_x and\tlongitude_x is also important but originally has large variance, so we keep them the same.)\n",
    "### We want to amplify the customer's preference (customer_array[:,6]*=3.)\n",
    "### grand_total and\titem_count may not be so important, we dilute them (customer_array[:,-2:]/=3.)\n",
    "\n",
    "### For each query we generate three results, two of them are based on the user's preference. The last one are on food categories that's less frequent"
   ]
  },
  {
   "cell_type": "code",
   "execution_count": null,
   "id": "d30aa86a",
   "metadata": {},
   "outputs": [],
   "source": []
  },
  {
   "cell_type": "code",
   "execution_count": 240,
   "id": "ca10ffde",
   "metadata": {},
   "outputs": [],
   "source": [
    "customer_array = np.load(\"customer_array.npy\",allow_pickle=True)\n",
    "customer_rare_array = np.load(\"customer_rare_array.npy\",allow_pickle=True)\n",
    "by_customer_rare = pd.read_csv('./by_customer_rare.csv')\n",
    "by_customer = pd.read_csv('./by_customer.csv')"
   ]
  },
  {
   "cell_type": "markdown",
   "id": "42435ae8",
   "metadata": {},
   "source": [
    "## fit KNN model"
   ]
  },
  {
   "cell_type": "code",
   "execution_count": 241,
   "id": "51ad571b",
   "metadata": {},
   "outputs": [
    {
     "name": "stderr",
     "output_type": "stream",
     "text": [
      "C:\\Users\\anban\\anaconda3\\lib\\site-packages\\sklearn\\utils\\validation.py:70: FutureWarning: Pass n_neighbors=2, radius=0.4 as keyword args. From version 1.0 (renaming of 0.25) passing these as positional arguments will result in an error\n",
      "  warnings.warn(f\"Pass {args_msg} as keyword args. From version \"\n",
      "C:\\Users\\anban\\anaconda3\\lib\\site-packages\\sklearn\\utils\\validation.py:70: FutureWarning: Pass n_neighbors=2, radius=0.4 as keyword args. From version 1.0 (renaming of 0.25) passing these as positional arguments will result in an error\n",
      "  warnings.warn(f\"Pass {args_msg} as keyword args. From version \"\n"
     ]
    },
    {
     "data": {
      "text/plain": [
       "NearestNeighbors(n_neighbors=2, radius=0.4)"
      ]
     },
     "execution_count": 241,
     "metadata": {},
     "output_type": "execute_result"
    }
   ],
   "source": [
    "'''\n",
    "samples = [[0, 0, 2], [1, 0, 0], [0, 0, 1]]\n",
    "neigh = NearestNeighbors(2, 0.4)\n",
    "neigh.fit(samples) \n",
    "neigh.kneighbors([[0, 0, 1.3]], 2, return_distance=False)\n",
    "'''\n",
    "neigh = NearestNeighbors(2, 0.4)\n",
    "neigh.fit(customer_array) \n",
    "\n",
    "neigh_rare = NearestNeighbors(2, 0.4)\n",
    "neigh_rare.fit(customer_rare_array) "
   ]
  },
  {
   "cell_type": "markdown",
   "id": "c08cb7fb",
   "metadata": {},
   "source": [
    "## Predict"
   ]
  },
  {
   "cell_type": "code",
   "execution_count": 242,
   "id": "3c471d18",
   "metadata": {},
   "outputs": [
    {
     "data": {
      "text/plain": [
       "(array([[9900.00347569, 9900.00366229]]), array([[34718,  6347]], dtype=int64))"
      ]
     },
     "execution_count": 242,
     "metadata": {},
     "output_type": "execute_result"
    }
   ],
   "source": [
    "neigh.kneighbors([[0, 0, 2, 0.0329, -78.6, 10000.0, 9.0, 0, 0, 0, 1, 0, 0, 0, 0, 0, 0,\n",
    "       0, 0, 0, 0, 1, 0, 0, 0, 0, 0, 0, 0, 0, 0, 0, 1, 1, 0, 0, 0, 0, 0,\n",
    "       0, 1, 1, 0, 0, 0, 0, 0, 0, 0, 0, 0, 0, 0, 1, 0, 0, 0, 0, 0, 0, 0,\n",
    "       0, 0, 0, 0, 0, 0, 0, 0, 0, 0, 0, 0, 0, 0, 0, 0, 0, 0, 0, 0, 0, 0,\n",
    "       0, 0, 0, 0, 0, 0, 0, 0, 0, 0, 0, 0, 0, 0, 0.7888888888888889,\n",
    "       0.2222222222222222]], 2, return_distance=True)"
   ]
  },
  {
   "cell_type": "code",
   "execution_count": 243,
   "id": "b062d79d",
   "metadata": {},
   "outputs": [
    {
     "data": {
      "text/plain": [
       "(array([[9900.0036272 , 9900.00381381]]), array([[34718,  6347]], dtype=int64))"
      ]
     },
     "execution_count": 243,
     "metadata": {},
     "output_type": "execute_result"
    }
   ],
   "source": [
    "neigh.kneighbors([[0, 0, 2, 0.0329, -78.6, 10000.0, 9.0, 0, 0, 0, 1, 0, 0, 0, 0, 0, 0,\n",
    "       0, 0, 0, 0, 1, 0, 0, 0, 0, 0, 0, 0, 0, 0, 0, 1, 1, 0, 0, 0, 0, 0,\n",
    "       0, 1, 1, 0, 0, 0, 0, 0, 0, 0, 0, 0, 0, 0, 1, 1, 0, 0, 0, 0, 0, 0,\n",
    "       0, 0, 0, 0, 0, 0, 0, 0, 0, 1, 0, 0, 0, 0, 0, 0, 1, 0, 0, 0, 0, 0,\n",
    "       0, 0, 0, 0, 0, 0, 0, 0, 0, 0, 0, 0, 0, 0, 0.7888888888888889,\n",
    "       0.2222222222222222]], 2, return_distance=True)"
   ]
  },
  {
   "cell_type": "code",
   "execution_count": 244,
   "id": "d553fb1a",
   "metadata": {},
   "outputs": [
    {
     "data": {
      "text/plain": [
       "(array([[9900.00384829, 9900.00423388]]), array([[34718, 34268]], dtype=int64))"
      ]
     },
     "execution_count": 244,
     "metadata": {},
     "output_type": "execute_result"
    }
   ],
   "source": [
    "neigh.kneighbors([[0, 0, 2, 0.0329, -78.6, 10000.0, 9.0, 0, 0, 0, 1, 0, 0, 0, 0, 0, 0,\n",
    "       0, 0, 0, 0, 6, 0, 0, 0, 0, 0, 0, 0, 0, 0, 0, 1, 1, 0, 0, 0, 0, 0,\n",
    "       0, 1, 1, 0, 0, 0, 0, 0, 0, 0, 0, 0, 0, 0, 1, 1, 0, 0, 0, 0, 0, 0,\n",
    "       0, 0, 0, 0, 0, 0, 0, 0, 0, 1, 0, 0, 0, 0, 0, 0, 1, 0, 0, 0, 0, 0,\n",
    "       0, 0, 0, 0, 0, 0, 0, 0, 0, 0, 0, 0, 0, 0, 0.0,\n",
    "       0.2222222222222222]], 2, return_distance=True)"
   ]
  },
  {
   "cell_type": "markdown",
   "id": "a41a9c4d",
   "metadata": {},
   "source": [
    "## Give Recommendation"
   ]
  },
  {
   "cell_type": "code",
   "execution_count": 252,
   "id": "768c134d",
   "metadata": {},
   "outputs": [
    {
     "data": {
      "text/html": [
       "<div>\n",
       "<style scoped>\n",
       "    .dataframe tbody tr th:only-of-type {\n",
       "        vertical-align: middle;\n",
       "    }\n",
       "\n",
       "    .dataframe tbody tr th {\n",
       "        vertical-align: top;\n",
       "    }\n",
       "\n",
       "    .dataframe thead th {\n",
       "        text-align: right;\n",
       "    }\n",
       "</style>\n",
       "<table border=\"1\" class=\"dataframe\">\n",
       "  <thead>\n",
       "    <tr style=\"text-align: right;\">\n",
       "      <th></th>\n",
       "      <th>Unnamed: 0</th>\n",
       "      <th>VENDOR</th>\n",
       "    </tr>\n",
       "    <tr>\n",
       "      <th>customer_id</th>\n",
       "      <th></th>\n",
       "      <th></th>\n",
       "    </tr>\n",
       "  </thead>\n",
       "  <tbody>\n",
       "    <tr>\n",
       "      <th>92PEE24</th>\n",
       "      <td>0</td>\n",
       "      <td>105 105 105 105</td>\n",
       "    </tr>\n",
       "    <tr>\n",
       "      <th>QS68UD8</th>\n",
       "      <td>1</td>\n",
       "      <td>294 43</td>\n",
       "    </tr>\n",
       "    <tr>\n",
       "      <th>MB7VY5F</th>\n",
       "      <td>2</td>\n",
       "      <td>83 83 83 83</td>\n",
       "    </tr>\n",
       "    <tr>\n",
       "      <th>KDJ951Y</th>\n",
       "      <td>3</td>\n",
       "      <td>90</td>\n",
       "    </tr>\n",
       "    <tr>\n",
       "      <th>BAL0RVT</th>\n",
       "      <td>4</td>\n",
       "      <td>83 83 83 83 84 84 216 216</td>\n",
       "    </tr>\n",
       "    <tr>\n",
       "      <th>...</th>\n",
       "      <td>...</td>\n",
       "      <td>...</td>\n",
       "    </tr>\n",
       "    <tr>\n",
       "      <th>0DSR94W</th>\n",
       "      <td>27440</td>\n",
       "      <td>84</td>\n",
       "    </tr>\n",
       "    <tr>\n",
       "      <th>3S6VG6R</th>\n",
       "      <td>27441</td>\n",
       "      <td>199</td>\n",
       "    </tr>\n",
       "    <tr>\n",
       "      <th>ND4PIJL</th>\n",
       "      <td>27442</td>\n",
       "      <td>907</td>\n",
       "    </tr>\n",
       "    <tr>\n",
       "      <th>1NRK5HF</th>\n",
       "      <td>27443</td>\n",
       "      <td>105</td>\n",
       "    </tr>\n",
       "    <tr>\n",
       "      <th>QDXLWM7</th>\n",
       "      <td>27444</td>\n",
       "      <td>28</td>\n",
       "    </tr>\n",
       "  </tbody>\n",
       "</table>\n",
       "<p>27445 rows × 2 columns</p>\n",
       "</div>"
      ],
      "text/plain": [
       "             Unnamed: 0                     VENDOR\n",
       "customer_id                                       \n",
       "92PEE24               0            105 105 105 105\n",
       "QS68UD8               1                     294 43\n",
       "MB7VY5F               2                83 83 83 83\n",
       "KDJ951Y               3                         90\n",
       "BAL0RVT               4  83 83 83 83 84 84 216 216\n",
       "...                 ...                        ...\n",
       "0DSR94W           27440                         84\n",
       "3S6VG6R           27441                        199\n",
       "ND4PIJL           27442                        907\n",
       "1NRK5HF           27443                        105\n",
       "QDXLWM7           27444                         28\n",
       "\n",
       "[27445 rows x 2 columns]"
      ]
     },
     "execution_count": 252,
     "metadata": {},
     "output_type": "execute_result"
    }
   ],
   "source": [
    "by_customer\n"
   ]
  },
  {
   "cell_type": "code",
   "execution_count": 253,
   "id": "b684a259",
   "metadata": {},
   "outputs": [
    {
     "ename": "KeyError",
     "evalue": "\"None of ['customer_id'] are in the columns\"",
     "output_type": "error",
     "traceback": [
      "\u001b[1;31m---------------------------------------------------------------------------\u001b[0m",
      "\u001b[1;31mKeyError\u001b[0m                                  Traceback (most recent call last)",
      "\u001b[1;32m<ipython-input-253-352c16f7fd15>\u001b[0m in \u001b[0;36m<module>\u001b[1;34m\u001b[0m\n\u001b[1;32m----> 1\u001b[1;33m \u001b[0mby_customer\u001b[0m \u001b[1;33m=\u001b[0m \u001b[0mby_customer\u001b[0m\u001b[1;33m.\u001b[0m\u001b[0mset_index\u001b[0m\u001b[1;33m(\u001b[0m\u001b[1;34m'customer_id'\u001b[0m\u001b[1;33m)\u001b[0m\u001b[1;33m\u001b[0m\u001b[1;33m\u001b[0m\u001b[0m\n\u001b[0m",
      "\u001b[1;32m~\\anaconda3\\lib\\site-packages\\pandas\\core\\frame.py\u001b[0m in \u001b[0;36mset_index\u001b[1;34m(self, keys, drop, append, inplace, verify_integrity)\u001b[0m\n\u001b[0;32m   4725\u001b[0m \u001b[1;33m\u001b[0m\u001b[0m\n\u001b[0;32m   4726\u001b[0m         \u001b[1;32mif\u001b[0m \u001b[0mmissing\u001b[0m\u001b[1;33m:\u001b[0m\u001b[1;33m\u001b[0m\u001b[1;33m\u001b[0m\u001b[0m\n\u001b[1;32m-> 4727\u001b[1;33m             \u001b[1;32mraise\u001b[0m \u001b[0mKeyError\u001b[0m\u001b[1;33m(\u001b[0m\u001b[1;34mf\"None of {missing} are in the columns\"\u001b[0m\u001b[1;33m)\u001b[0m\u001b[1;33m\u001b[0m\u001b[1;33m\u001b[0m\u001b[0m\n\u001b[0m\u001b[0;32m   4728\u001b[0m \u001b[1;33m\u001b[0m\u001b[0m\n\u001b[0;32m   4729\u001b[0m         \u001b[1;32mif\u001b[0m \u001b[0minplace\u001b[0m\u001b[1;33m:\u001b[0m\u001b[1;33m\u001b[0m\u001b[1;33m\u001b[0m\u001b[0m\n",
      "\u001b[1;31mKeyError\u001b[0m: \"None of ['customer_id'] are in the columns\""
     ]
    }
   ],
   "source": [
    "by_customer = by_customer.set_index('customer_id')"
   ]
  },
  {
   "cell_type": "code",
   "execution_count": 254,
   "id": "eeb58990",
   "metadata": {},
   "outputs": [
    {
     "data": {
      "text/plain": [
       "Unnamed: 0                  0\n",
       "VENDOR        105 105 105 105\n",
       "Name: 92PEE24, dtype: object"
      ]
     },
     "execution_count": 254,
     "metadata": {},
     "output_type": "execute_result"
    }
   ],
   "source": [
    "by_customer.loc[\"92PEE24\"]"
   ]
  },
  {
   "cell_type": "code",
   "execution_count": 248,
   "id": "60d42ad6",
   "metadata": {},
   "outputs": [],
   "source": [
    "by_customer_rare = by_customer_rare.set_index('customer_id')"
   ]
  },
  {
   "cell_type": "code",
   "execution_count": 249,
   "id": "2429c258",
   "metadata": {},
   "outputs": [
    {
     "data": {
      "text/plain": [
       "['304', '43', '243']"
      ]
     },
     "execution_count": 249,
     "metadata": {},
     "output_type": "execute_result"
    }
   ],
   "source": [
    "q = [[0, 0, 2, 0.0329, -78.6, 10000.0, 9.0, 0, 0, 0, 1, 0, 0, 0, 0, 0, 0,\n",
    "       0, 0, 0, 0, 6, 0, 0, 0, 0, 0, 0, 0, 0, 0, 0, 1, 1, 0, 0, 0, 0, 0,\n",
    "       0, 1, 1, 0, 0, 0, 0, 0, 0, 0, 0, 0, 0, 0, 1, 1, 0, 0, 0, 0, 0, 0,\n",
    "       0, 0, 0, 0, 0, 0, 0, 0, 0, 1, 0, 0, 0, 0, 0, 0, 1, 0, 0, 0, 0, 0,\n",
    "       0, 0, 0, 0, 0, 0, 0, 0, 0, 0, 0, 0, 0, 0, 0.0,\n",
    "       0.2222222222222222]]\n",
    "\n",
    "def query(user_vecs, neigh, table, pool, k_value=3, return_num=1):\n",
    "    dist, knn = neigh.kneighbors(user_vecs, k_value, return_distance=True)\n",
    "    recommendation = []\n",
    "    recommendation_weight = []\n",
    "    #print(dist,knn)\n",
    "    for k,i in enumerate(list(knn)):\n",
    "        \n",
    "        #print(pool.iloc[i])\n",
    "        user_id = table.iloc[i]['customer_id'].values\n",
    "        recommended_restaurant = []\n",
    "        for id in user_id:\n",
    "            recommended_restaurant.append(pool.loc[id]['VENDOR'].split(' '))\n",
    "        confidence = {}\n",
    "        for j in range(len(recommended_restaurant)):\n",
    "            for restaurant in recommended_restaurant[j]:\n",
    "                if restaurant not in confidence:\n",
    "                    confidence[restaurant]=0.\n",
    "                confidence[restaurant]+=1./dist[0][j]\n",
    "        p = np.asarray(list(confidence.values()))\n",
    "        p/=np.sum(p)\n",
    "        keys = list(confidence.keys())\n",
    "        recommendation.append(np.random.choice(len(confidence.keys()), return_num, p=p,replace=False))\n",
    "        ret = [keys[recommendation[-1][n]]for n in range(return_num)]\n",
    "        #print(\"generate recommendation for %d'th input...\"%k)\n",
    "        #print(\"--Recommendation is restaurant: \"+str(ret))\n",
    "        return ret\n",
    "        \n",
    "\n",
    "def generate_recommendation(user_vecs):\n",
    "    l1 = query(user_vecs, neigh, customer, by_customer, k_value=3, return_num=2)\n",
    "    l2 = query(user_vecs, neigh_rare, customer_rare, by_customer_rare, k_value=3, return_num=1)\n",
    "    l1.extend(l2)\n",
    "    return l1\n",
    "\n",
    "generate_recommendation(q)"
   ]
  },
  {
   "cell_type": "markdown",
   "id": "8fcd3aa6",
   "metadata": {},
   "source": [
    "# Generate Recommendation for Group "
   ]
  },
  {
   "cell_type": "code",
   "execution_count": 250,
   "id": "56e440ec",
   "metadata": {},
   "outputs": [],
   "source": [
    "def generate_recommendation_for_group(user_vecs):\n",
    "    hybrid_preference = np.sum(np.asarray(user_vecs)[:,6:-2],0).tolist()\n",
    "    vote = []\n",
    "    vote_rare = []\n",
    "    count_freq = {}\n",
    "    for user_vec in user_vecs:\n",
    "        user_vec[6:-2]=hybrid_preference\n",
    "        recommendation = generate_recommendation([user_vec])\n",
    "        vote.extend(recommendation[:2])\n",
    "        vote_rare.extend(recommendation[2:])\n",
    "    for k in vote:\n",
    "        if k not in count_freq:\n",
    "            count_freq[k]=0\n",
    "        count_freq[k]+=1\n",
    "    count_freq = sorted(count_freq.items(),key=lambda x:x[1], reverse=True)\n",
    "    ret =[i[0] for i in count_freq[:2]]\n",
    "    count_freq = {}\n",
    "    for k in vote_rare:\n",
    "        if k not in count_freq:\n",
    "            count_freq[k]=0\n",
    "        count_freq[k]+=1\n",
    "    count_freq = sorted(count_freq.items(),key=lambda x:x[1], reverse=True)\n",
    "    ret.append(count_freq[0][0])\n",
    "    #print(\"generate recommendation for group...\")\n",
    "    #print(\"--Recommendation is restaurant: \"+str(ret))\n",
    "    return ret"
   ]
  },
  {
   "cell_type": "code",
   "execution_count": 251,
   "id": "e6807c58",
   "metadata": {},
   "outputs": [
    {
     "data": {
      "text/plain": [
       "['216', '221', '243']"
      ]
     },
     "execution_count": 251,
     "metadata": {},
     "output_type": "execute_result"
    }
   ],
   "source": [
    "generate_recommendation_for_group(customer_array[:10].tolist())"
   ]
  },
  {
   "cell_type": "code",
   "execution_count": null,
   "id": "36121b36",
   "metadata": {},
   "outputs": [],
   "source": []
  },
  {
   "cell_type": "code",
   "execution_count": null,
   "id": "d8981fcd",
   "metadata": {},
   "outputs": [],
   "source": []
  },
  {
   "cell_type": "code",
   "execution_count": null,
   "id": "cc95c7db",
   "metadata": {},
   "outputs": [],
   "source": []
  },
  {
   "cell_type": "markdown",
   "id": "1abb2b27",
   "metadata": {},
   "source": [
    "# Item Base Recommendation\n",
    "\n",
    "## Assign weights to each feature\n",
    "\n",
    "### city_id is supper critical, so we assign large weight. (customer_array[:,5]*=100.) Note that latitude_x and\tlongitude_x is also important but originally has large variance, so we keep them the same.)\n",
    "### We want to amplify the customer's preference (customer_array[:,6]*=3.)\n",
    "### grand_total and\titem_count may not be so important, we dilute them (customer_array[:,-2:]/=3.)"
   ]
  },
  {
   "cell_type": "code",
   "execution_count": null,
   "id": "54c6ef21",
   "metadata": {},
   "outputs": [],
   "source": []
  },
  {
   "cell_type": "code",
   "execution_count": null,
   "id": "11632f2f",
   "metadata": {},
   "outputs": [],
   "source": []
  }
 ],
 "metadata": {
  "kernelspec": {
   "display_name": "Python 3",
   "language": "python",
   "name": "python3"
  },
  "language_info": {
   "codemirror_mode": {
    "name": "ipython",
    "version": 3
   },
   "file_extension": ".py",
   "mimetype": "text/x-python",
   "name": "python",
   "nbconvert_exporter": "python",
   "pygments_lexer": "ipython3",
   "version": "3.8.8"
  }
 },
 "nbformat": 4,
 "nbformat_minor": 5
}
